{
 "cells": [
  {
   "cell_type": "code",
   "execution_count": 1,
   "id": "3cef76e2",
   "metadata": {},
   "outputs": [],
   "source": [
    "import pandas as pd \n",
    "import seaborn as sns\n",
    "import matplotlib.pyplot as plt\n",
    "import numpy as np"
   ]
  },
  {
   "cell_type": "code",
   "execution_count": 3,
   "id": "b4abeb0a",
   "metadata": {},
   "outputs": [],
   "source": [
    "decision = pd.read_csv('dados_ciclo_basic/decision.csv.csv')\n",
    "fifa_results = pd.read_csv('dados_ciclo_basic/FIFA Results.csv')\n",
    "matches = pd.read_csv('dados_ciclo_basic/dados_copadomundo/matches_1930_2022.csv')\n",
    "world_cup = pd.read_csv('dados_ciclo_basic/dados_copadomundo/world_cup.csv')"
   ]
  },
  {
   "cell_type": "code",
   "execution_count": null,
   "id": "53082d87",
   "metadata": {},
   "outputs": [],
   "source": []
  }
 ],
 "metadata": {
  "kernelspec": {
   "display_name": "Python 3",
   "language": "python",
   "name": "python3"
  },
  "language_info": {
   "codemirror_mode": {
    "name": "ipython",
    "version": 3
   },
   "file_extension": ".py",
   "mimetype": "text/x-python",
   "name": "python",
   "nbconvert_exporter": "python",
   "pygments_lexer": "ipython3",
   "version": "3.13.0"
  }
 },
 "nbformat": 4,
 "nbformat_minor": 5
}
